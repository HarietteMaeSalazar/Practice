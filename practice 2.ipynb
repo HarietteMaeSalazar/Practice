{
  "metadata": {
    "language_info": {
      "codemirror_mode": {
        "name": "python",
        "version": 3
      },
      "file_extension": ".py",
      "mimetype": "text/x-python",
      "name": "python",
      "nbconvert_exporter": "python",
      "pygments_lexer": "ipython3",
      "version": "3.8"
    },
    "kernelspec": {
      "name": "python",
      "display_name": "Python (Pyodide)",
      "language": "python"
    }
  },
  "nbformat_minor": 4,
  "nbformat": 4,
  "cells": [
    {
      "cell_type": "code",
      "source": "class Person:\n    def person_info(self,name, age):\n        print('Person')\n        print('Name:', name, 'Age:', age)\n        \nclass Company:\n    def company_info(self, company_name, location):\n        print('Company')\n        print('Name:', company_name, 'location:', location)\n\nclass Employee(Person, Company):\n    def Employee_info(self, salary, skill):\n        print('Emloyee')\n        print('Salary:', salary, 'Skill:', skill)\n\nemp = Employee()\n\nemp.person_info('Amie', 27)\nemp.company_info('MHPI', 'San Roque')\nemp.Employee_info(6000, 'Inspector')",
      "metadata": {
        "trusted": true
      },
      "execution_count": 1,
      "outputs": [
        {
          "name": "stdout",
          "text": "Person\nName: Amie Age: 27\nCompany\nName: Lander location: San Roque\nEmloyee\nSalary: 6000 Skill: Inspector\n",
          "output_type": "stream"
        }
      ]
    },
    {
      "cell_type": "code",
      "source": "",
      "metadata": {},
      "execution_count": null,
      "outputs": []
    }
  ]
}